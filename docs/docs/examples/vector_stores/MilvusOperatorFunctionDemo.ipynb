{
 "cells": [
  {
   "cell_type": "markdown",
   "metadata": {},
   "source": [
    "## How to use FilterOperatorFunctions for advanced scalar querying and complex query joins in Milvus\n",
    "\n",
    "The goal of this guide is to walk through the basics of how to utilize the LlamaIndex FilterOperatorFunctions to leverage the power of Milvus's advanced query cabability against hosted vector databases. For context on how these work, see Milvus's documentation:\n",
    "1. [Basic operators](https://docs.zilliz.com/docs/get-and-scalar-query#basic-operators)\n",
    "2. [JSON filtering](https://docs.zilliz.com/docs/use-json-fields)\n",
    "3. [Array filtering](https://docs.zilliz.com/docs/use-array-fields)\n",
    "\n",
    "This guide assumes a few things:\n",
    "1. You have a provisioned Milvus collection loaded into and hosted on a vector database\n",
    "2. You are running this example locally and have access to environment variables"
   ]
  },
  {
   "cell_type": "markdown",
   "metadata": {},
   "source": [
    "### Install Milvus and LlamaIndex dependencies"
   ]
  },
  {
   "cell_type": "code",
   "execution_count": null,
   "metadata": {},
   "outputs": [],
   "source": [
    "%pip install llama-index-vector-stores-milvus"
   ]
  },
  {
   "cell_type": "code",
   "execution_count": null,
   "metadata": {},
   "outputs": [],
   "source": [
    "! pip install llama-index"
   ]
  },
  {
   "cell_type": "markdown",
   "metadata": {},
   "source": [
    "### Import MilvusVectorStore and related core dependencies"
   ]
  },
  {
   "cell_type": "code",
   "execution_count": null,
   "metadata": {},
   "outputs": [],
   "source": [
    "from llama_index.vector_stores.milvus import MilvusVectorStore\n",
    "from llama_index.core.vector_stores import (\n",
    "    VectorStoreQuery,\n",
    "    MetadataFilters,\n",
    "    MetadataFilter,\n",
    "    FilterOperator,\n",
    "    FilterOperatorFunction,\n",
    ")\n",
    "from dotenv import load_dotenv\n",
    "import os"
   ]
  },
  {
   "cell_type": "markdown",
   "metadata": {},
   "source": [
    "### Load .env variables and build the Vector Store\n",
    "\n",
    "Provide the path to the variables if necessary (i.e. if running in a forked local repository)\n",
    "- If you'd rather provide the uri, token and collection info manually, do that in the next step and ignore the load_dotenv"
   ]
  },
  {
   "cell_type": "code",
   "execution_count": null,
   "metadata": {},
   "outputs": [],
   "source": [
    "load_dotenv(\"/path/to/vars\")"
   ]
  },
  {
   "cell_type": "code",
   "execution_count": null,
   "metadata": {},
   "outputs": [],
   "source": [
    "vector_store = MilvusVectorStore(\n",
    "    overwrite=False,\n",
    "    uri=os.getenv(\"MILVUS_URI\"),\n",
    "    token=os.getenv(\"MILVUS_TOKEN\"),\n",
    "    collection_name=os.getenv(\"MILVUS_COLLECTION\"),\n",
    ")"
   ]
  },
  {
   "cell_type": "markdown",
   "metadata": {},
   "source": [
    "### Run Queries\n",
    "\n",
    "#### Using a FilterOperatorFunction\n",
    "Assume that there is a metadata field called \"product_codes\" that contains an array of strings detailing certain product information. To filter the vector results down to only those tagged with \"code4\", use the `ARRAY_CONTAINS` function\n",
    "\n",
    "Build the `MetadataFilter`, `MetadataFilters`, and `VectorStoreQuery` objects"
   ]
  },
  {
   "cell_type": "code",
   "execution_count": null,
   "metadata": {},
   "outputs": [],
   "source": [
    "key = \"product_codes\"\n",
    "top_k = 5\n",
    "\n",
    "array_contains_metadata_filter = MetadataFilter(\n",
    "    key=key, value=\"code4\", operator=FilterOperatorFunction.ARRAY_CONTAINS\n",
    ")\n",
    "\n",
    "metadata_filters = MetadataFilters(filters=[array_contains_metadata_filter])\n",
    "\n",
    "vector_store_query = VectorStoreQuery(\n",
    "    query_embedding=[0.0] * 3072,\n",
    "    similarity_top_k=top_k,\n",
    "    filters=metadata_filters,\n",
    ")"
   ]
  },
  {
   "cell_type": "markdown",
   "metadata": {},
   "source": [
    "#### Execute the query and print the relevant information"
   ]
  },
  {
   "cell_type": "code",
   "execution_count": null,
   "metadata": {},
   "outputs": [
    {
     "name": "stdout",
     "output_type": "stream",
     "text": [
      "node id_: c_142236555_s_291254779-291254817\n",
      "metadata: \n",
      "\tchapter id: 142236555\n",
      "\tproduct_codes['code2', 'code9', 'code5', 'code4', 'code6']\n",
      "\n",
      "node id_: c_440696406_s_440696822-440696847\n",
      "metadata: \n",
      "\tchapter id: 440696406\n",
      "\tproduct_codes['code3', 'code2', 'code1', 'code4', 'code9', 'code5']\n",
      "\n",
      "node id_: c_440700190_s_440700206-440700218\n",
      "metadata: \n",
      "\tchapter id: 440700190\n",
      "\tproduct_codes['code9', 'code7', 'code4', 'code2', 'code6']\n",
      "\n",
      "node id_: c_440763876_s_440763935-440763942\n",
      "metadata: \n",
      "\tchapter id: 440763876\n",
      "\tproduct_codes['code4', 'code8', 'code10']\n",
      "\n",
      "node id_: c_440885466_s_440885620-440885631\n",
      "metadata: \n",
      "\tchapter id: 440885466\n",
      "\tproduct_codes['code9', 'code5', 'code2', 'code4', 'code1']\n",
      "\n"
     ]
    }
   ],
   "source": [
    "query_result = vector_store.query(query=vector_store_query)\n",
    "\n",
    "for node in query_result.nodes:\n",
    "    print(\n",
    "        f\"node id_: {node.id_}\\nmetadata: \\n\\tchapter id: {node.metadata['chapter_id']}\\n\\t{key}{node.metadata[key]}\\n\"\n",
    "    )"
   ]
  },
  {
   "cell_type": "markdown",
   "metadata": {},
   "source": [
    "#### Run a query using the FilterOperator.NIN enum to exclude some previous results"
   ]
  },
  {
   "cell_type": "code",
   "execution_count": null,
   "metadata": {},
   "outputs": [],
   "source": [
    "not_in_metadata_filter = MetadataFilter(\n",
    "    key=\"chapter_id\", value=[440696406, 440769025], operator=FilterOperator.NIN\n",
    ")\n",
    "\n",
    "metadata_filters = MetadataFilters(filters=[not_in_metadata_filter])\n",
    "\n",
    "vector_store_query = VectorStoreQuery(\n",
    "    query_embedding=[0.0] * 3072,\n",
    "    similarity_top_k=top_k,\n",
    "    filters=metadata_filters,\n",
    ")"
   ]
  },
  {
   "cell_type": "code",
   "execution_count": null,
   "metadata": {},
   "outputs": [
    {
     "name": "stdout",
     "output_type": "stream",
     "text": [
      "node id_: c_440885466_s_440885620-440885631\n",
      "metadata: \n",
      "\tchapter id: 440885466\n",
      "\tproduct_codes['code9', 'code5', 'code2', 'code4', 'code1']\n",
      "\n",
      "node id_: c_441155692_s_441155856-441155752\n",
      "metadata: \n",
      "\tchapter id: 441155692\n",
      "\tproduct_codes['code9', 'code1']\n",
      "\n",
      "node id_: c_142236555_s_291254779-291254817\n",
      "metadata: \n",
      "\tchapter id: 142236555\n",
      "\tproduct_codes['code2', 'code9', 'code5', 'code4', 'code6']\n",
      "\n",
      "node id_: c_441156096_s_441156098-441156102\n",
      "metadata: \n",
      "\tchapter id: 441156096\n",
      "\tproduct_codes['code3', 'code8', 'code5']\n",
      "\n",
      "node id_: c_444354779_s_444354787-444354792\n",
      "metadata: \n",
      "\tchapter id: 444354779\n",
      "\tproduct_codes['code3', 'code5', 'code10', 'code1']\n",
      "\n"
     ]
    }
   ],
   "source": [
    "query_result = vector_store.query(query=vector_store_query)\n",
    "\n",
    "for node in query_result.nodes:\n",
    "    print(\n",
    "        f\"node id_: {node.id_}\\nmetadata: \\n\\tchapter id: {node.metadata['chapter_id']}\\n\\t{key}{node.metadata[key]}\\n\"\n",
    "    )"
   ]
  },
  {
   "cell_type": "markdown",
   "metadata": {},
   "source": [
    "#### Combine the two query conditions into a single query call"
   ]
  },
  {
   "cell_type": "code",
   "execution_count": null,
   "metadata": {},
   "outputs": [],
   "source": [
    "metadata_filters = MetadataFilters(\n",
    "    filters=[array_contains_metadata_filter, not_in_metadata_filter]\n",
    ")\n",
    "\n",
    "vector_store_query = VectorStoreQuery(\n",
    "    query_embedding=[0.0] * 3072,\n",
    "    similarity_top_k=top_k,\n",
    "    filters=metadata_filters,\n",
    ")"
   ]
  },
  {
   "cell_type": "code",
   "execution_count": null,
   "metadata": {},
   "outputs": [
    {
     "name": "stdout",
     "output_type": "stream",
     "text": [
      "node id_: c_142236555_s_291254779-291254817\n",
      "metadata: \n",
      "\tchapter id: 142236555\n",
      "\tproduct_codes['code2', 'code9', 'code5', 'code4', 'code6']\n",
      "\n",
      "node id_: c_440700190_s_440700206-440700218\n",
      "metadata: \n",
      "\tchapter id: 440700190\n",
      "\tproduct_codes['code9', 'code7', 'code4', 'code2', 'code6']\n",
      "\n",
      "node id_: c_440763876_s_440763935-440763942\n",
      "metadata: \n",
      "\tchapter id: 440763876\n",
      "\tproduct_codes['code4', 'code8', 'code10']\n",
      "\n",
      "node id_: c_440885466_s_440885620-440885631\n",
      "metadata: \n",
      "\tchapter id: 440885466\n",
      "\tproduct_codes['code9', 'code5', 'code2', 'code4', 'code1']\n",
      "\n",
      "node id_: c_361386932_s_361386982-361387025\n",
      "metadata: \n",
      "\tchapter id: 361386932\n",
      "\tproduct_codes['code4']\n",
      "\n"
     ]
    }
   ],
   "source": [
    "query_result = vector_store.query(query=vector_store_query)\n",
    "\n",
    "for node in query_result.nodes:\n",
    "    print(\n",
    "        f\"node id_: {node.id_}\\nmetadata: \\n\\tchapter id: {node.metadata['chapter_id']}\\n\\t{key}{node.metadata[key]}\\n\"\n",
    "    )"
   ]
  }
 ],
 "metadata": {
  "kernelspec": {
   "display_name": "llama-index-7bwhF-mD-py3.11",
   "language": "python",
   "name": "python3"
  },
  "language_info": {
   "codemirror_mode": {
    "name": "ipython",
    "version": 3
   },
   "file_extension": ".py",
   "mimetype": "text/x-python",
   "name": "python",
   "nbconvert_exporter": "python",
   "pygments_lexer": "ipython3"
  }
 },
 "nbformat": 4,
 "nbformat_minor": 2
}
